{
 "cells": [
  {
   "cell_type": "code",
   "execution_count": 1,
   "metadata": {},
   "outputs": [
    {
     "name": "stderr",
     "output_type": "stream",
     "text": [
      "WARNING:absl:Worrying Stuff\n"
     ]
    },
    {
     "name": "stdout",
     "output_type": "stream",
     "text": [
      "Using cuda device\n"
     ]
    }
   ],
   "source": [
    "from custom_model.models import DGCN_vis, SoftLoss, DERLoss\n",
    "import numpy as np\n",
    "import matplotlib.pyplot as plt\n",
    "%matplotlib inline \n",
    "\n",
    "import torch\n",
    "from torch.optim.lr_scheduler import StepLR\n",
    "\n",
    "from custom_model.utils import *\n",
    "from custom_model.training import *\n",
    "from custom_model.custom_dataset import *\n",
    "from custom_model.visual_utils import *\n",
    "\n",
    "from absl import logging\n",
    "logging._warn_preinit_stderr = 0\n",
    "logging.warning('Worrying Stuff')\n",
    "\n",
    "device = 'cuda' if torch.cuda.is_available() else 'cpu'\n",
    "print(f'Using {device} device')"
   ]
  },
  {
   "cell_type": "code",
   "execution_count": 2,
   "metadata": {},
   "outputs": [
    {
     "name": "stdout",
     "output_type": "stream",
     "text": [
      "preprocessing data...\n",
      "completed\n"
     ]
    }
   ],
   "source": [
    "para = {}\n",
    "para['time_invertal'] = 5\n",
    "para['horizon'] = 15\n",
    "para['observation'] = 20\n",
    "para['nb_node'] = 193\n",
    "para['dim_feature'] = 128\n",
    "A = adjacency_matrix(3)\n",
    "B = adjacency_matrixq(3, 8)\n",
    "\n",
    "Av, Aq = get_directed_connection()\n",
    "links, lengths, indicators = get_roads()\n",
    "\n",
    "model = DGCN_vis(para, A, B, return_interpret=True).to(device)\n",
    "model.load_state_dict(torch.load('./pretrained/predictor_uq.pt'))\n",
    "testset = AMSdataset(['2019'], para, 'test')\n",
    "\n",
    "v_mean = np.mean(testset.X[:,-15:,:,0], (1,2))\n",
    "order = np.argsort(v_mean)"
   ]
  },
  {
   "cell_type": "code",
   "execution_count": null,
   "metadata": {},
   "outputs": [],
   "source": [
    "D = []\n",
    "for i in tqdm(range(len(testset))):\n",
    "    _, _, _, _, _, _, _, demand = get_prediction(model, testset, i)\n",
    "    D.append(demand)\n",
    "D = np.array(D)\n",
    "print(D.shape)"
   ]
  },
  {
   "cell_type": "code",
   "execution_count": null,
   "metadata": {},
   "outputs": [],
   "source": [
    "groundtruth, speed, flow, alea, epis, m1, m2, demand = get_prediction(model, testset, order[4])"
   ]
  },
  {
   "cell_type": "code",
   "execution_count": null,
   "metadata": {},
   "outputs": [],
   "source": [
    "fig = plot_prediction(groundtruth, flow, mode='flow')"
   ]
  },
  {
   "cell_type": "code",
   "execution_count": null,
   "metadata": {},
   "outputs": [],
   "source": [
    "fig.savefig('./imgs/q_spatial_ff19.jpg', dpi=600)"
   ]
  },
  {
   "cell_type": "code",
   "execution_count": null,
   "metadata": {},
   "outputs": [],
   "source": [
    "fig = plot_state_on_map(links, speed[7], mode='speed')"
   ]
  },
  {
   "cell_type": "code",
   "execution_count": null,
   "metadata": {},
   "outputs": [],
   "source": [
    "fig2 = plot_state_on_map(links, flow[10], mode='flow')"
   ]
  },
  {
   "cell_type": "code",
   "execution_count": null,
   "metadata": {},
   "outputs": [],
   "source": [
    "fig2 = plot_demand_on_map(links, demand[0]*30, 400)"
   ]
  },
  {
   "cell_type": "code",
   "execution_count": null,
   "metadata": {},
   "outputs": [],
   "source": [
    "fig = draw_interpretation(links, Av, m1[7], 19, 'speed', clear_axis=True)"
   ]
  },
  {
   "cell_type": "code",
   "execution_count": null,
   "metadata": {},
   "outputs": [],
   "source": [
    "fig = draw_interpretation(links, Aq, m2[7], 19, 'flow', colorbar=True, clear_axis=True, show_lines=False, ylim=[52.37, 52.44])"
   ]
  },
  {
   "cell_type": "code",
   "execution_count": null,
   "metadata": {},
   "outputs": [],
   "source": [
    "fig = plot_prediction(groundtruth, speed, mode='speed')"
   ]
  },
  {
   "cell_type": "code",
   "execution_count": null,
   "metadata": {},
   "outputs": [],
   "source": [
    "fig.savefig('./imgs/example_q2.pdf', dpi=600)"
   ]
  },
  {
   "cell_type": "code",
   "execution_count": null,
   "metadata": {},
   "outputs": [],
   "source": [
    "plt.scatter(np.arange(193), speed[10], c=speed[10], vmin=0, vmax=130, cmap=cm.rainbow_r)"
   ]
  },
  {
   "cell_type": "code",
   "execution_count": 1,
   "metadata": {},
   "outputs": [
    {
     "ename": "NameError",
     "evalue": "name 'epis' is not defined",
     "output_type": "error",
     "traceback": [
      "\u001b[1;31m---------------------------------------------------------------------------\u001b[0m",
      "\u001b[1;31mNameError\u001b[0m                                 Traceback (most recent call last)",
      "\u001b[1;32md:\\DLworks\\TF_all_in_one\\visualize.ipynb Cell 15\u001b[0m in \u001b[0;36m<cell line: 1>\u001b[1;34m()\u001b[0m\n\u001b[1;32m----> <a href='vscode-notebook-cell:/d%3A/DLworks/TF_all_in_one/visualize.ipynb#X20sZmlsZQ%3D%3D?line=0'>1</a>\u001b[0m epis\u001b[39m.\u001b[39mshape\n",
      "\u001b[1;31mNameError\u001b[0m: name 'epis' is not defined"
     ]
    }
   ],
   "source": [
    "epis.shape"
   ]
  },
  {
   "cell_type": "code",
   "execution_count": null,
   "metadata": {},
   "outputs": [],
   "source": [
    "plt.plot(np.mean(D, (0,1)))"
   ]
  },
  {
   "cell_type": "code",
   "execution_count": null,
   "metadata": {},
   "outputs": [],
   "source": []
  }
 ],
 "metadata": {
  "kernelspec": {
   "display_name": "torch39",
   "language": "python",
   "name": "python3"
  },
  "language_info": {
   "codemirror_mode": {
    "name": "ipython",
    "version": 3
   },
   "file_extension": ".py",
   "mimetype": "text/x-python",
   "name": "python",
   "nbconvert_exporter": "python",
   "pygments_lexer": "ipython3",
   "version": "3.9.12"
  },
  "orig_nbformat": 4
 },
 "nbformat": 4,
 "nbformat_minor": 2
}
