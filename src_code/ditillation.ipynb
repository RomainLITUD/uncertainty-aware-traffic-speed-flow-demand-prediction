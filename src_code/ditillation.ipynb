{
 "cells": [
  {
   "cell_type": "code",
   "execution_count": null,
   "metadata": {},
   "outputs": [],
   "source": [
    "from custom_model.models import DGCN, SoftLoss, DERLoss, RegressionLoss\n",
    "import numpy as np\n",
    "import matplotlib.pyplot as plt\n",
    "%matplotlib inline \n",
    "\n",
    "import torch\n",
    "from torch.optim.lr_scheduler import StepLR\n",
    "\n",
    "from custom_model.utils import *\n",
    "from custom_model.training import *\n",
    "from custom_model.custom_dataset import *\n",
    "\n",
    "from absl import logging\n",
    "logging._warn_preinit_stderr = 0\n",
    "logging.warning('Worrying Stuff')\n",
    "\n",
    "device = 'cuda' if torch.cuda.is_available() else 'cpu'\n",
    "print(f'Using {device} device')"
   ]
  },
  {
   "cell_type": "code",
   "execution_count": null,
   "metadata": {},
   "outputs": [],
   "source": [
    "para = {}\n",
    "para['time_invertal'] = 5\n",
    "para['horizon'] = 15\n",
    "para['observation'] = 20\n",
    "para['nb_node'] = 193\n",
    "para['dim_feature'] = 128\n",
    "A = adjacency_matrix(3)\n",
    "B = adjacency_matrixq(3, 8)\n",
    "\n",
    "years = ['2018', '2019']\n",
    "\n",
    "dt = np.load('./results/order_train.npz', allow_pickle=True)\n",
    "order = dt['order']\n",
    "Nb = len(order)\n",
    "print(Nb)"
   ]
  },
  {
   "cell_type": "code",
   "execution_count": null,
   "metadata": {},
   "outputs": [],
   "source": [
    "trainset = AMSdataset_distill(years, para, order[int(Nb*0.7):], 'train')\n",
    "#trainset = AMSdataset_filtered(para, 'high')\n",
    "print(len(trainset))\n",
    "validationset = AMSdataset(years, para, 'validation')\n",
    "validation_loader = DataLoader(validationset, batch_size=16, shuffle=False)\n",
    "BATCH_SIZE = 16\n",
    "EPOCH_NUMBER = 80\n",
    "loss = RegressionLoss().to(device)"
   ]
  },
  {
   "cell_type": "code",
   "execution_count": null,
   "metadata": {},
   "outputs": [],
   "source": [
    "#model = DGCN(para, A, B, uncertainty=False).to(device)\n",
    "optimizer = torch.optim.Adam(model.parameters(), lr=2e-4)\n",
    "scheduler = StepLR(optimizer, step_size=1, gamma=0.975)\n",
    "train_model(EPOCH_NUMBER, BATCH_SIZE, trainset, model, optimizer, validation_loader, loss,\n",
    "                  scheduler, para['horizon'], beta=-0.07)"
   ]
  },
  {
   "cell_type": "code",
   "execution_count": null,
   "metadata": {},
   "outputs": [],
   "source": [
    "torch.save(model.state_dict(), './distill/high70.pt')"
   ]
  },
  {
   "cell_type": "code",
   "execution_count": null,
   "metadata": {},
   "outputs": [],
   "source": [
    "model = DGCN(para, A, B, uncertainty=False).to(device)\n",
    "model.load_state_dict(torch.load('./distill/high70.pt'))"
   ]
  },
  {
   "cell_type": "code",
   "execution_count": null,
   "metadata": {},
   "outputs": [],
   "source": [
    "para['time_invertal'] = 5\n",
    "testset = AMSdataset(['2022'], para, 'test')\n",
    "prediction = test_run_point_distill(testset, model)"
   ]
  },
  {
   "cell_type": "code",
   "execution_count": null,
   "metadata": {},
   "outputs": [],
   "source": [
    "weights = np.where(testset.X[:,-15:,:,0]>0.45, 1., 4.)\n",
    "np.mean(np.abs(prediction[...,0]-testset.X[:,-15:,:,0])*weights)*130"
   ]
  },
  {
   "cell_type": "code",
   "execution_count": null,
   "metadata": {},
   "outputs": [],
   "source": [
    "np.mean(weights*np.abs(prediction[...,0]-testset.X[:,-15:,:,0])/testset.X[:,-15:,:,0]*100)"
   ]
  },
  {
   "cell_type": "code",
   "execution_count": null,
   "metadata": {},
   "outputs": [],
   "source": [
    "np.mean(weights*(prediction[...,0]-testset.X[:,-15:,:,0])**2)**0.5*130"
   ]
  },
  {
   "cell_type": "code",
   "execution_count": null,
   "metadata": {},
   "outputs": [],
   "source": [
    "percentile = np.array([30, 40, 50, 60, 70, 80, 90, 100])\n",
    "MAE = np.array([5.97, 6.13, 5.99, 5.89, 5.78, 5.24, 4.88, 4.35])\n",
    "p1 = np.array([30, 60, 70, 80, 90])\n",
    "MAE1 = np.array([4.37, 4.41, 4.36, 4.91, 5.36])"
   ]
  },
  {
   "cell_type": "code",
   "execution_count": null,
   "metadata": {},
   "outputs": [],
   "source": [
    "fig, ax = plt.subplots(figsize=(5,3))\n",
    "ax.plot(percentile, MAE, marker='x', label='preserved')\n",
    "ax.plot(p1, MAE1, marker='o', label='removed')\n",
    "ax.vlines(52.9, 4.1, 6.9, ls='--', color='black')\n",
    "#ax.vlines(30.6, 4.1, 6.4, ls='--', color='black')\n",
    "#ax.axvspan(20, 31.6, alpha=0.5, color='lightblue', label='free-flowing')\n",
    "ax.axvspan(52.9, 110, alpha=0.3, color='salmon', label='congested')\n",
    "ax.set_xlabel('percentile (%)')\n",
    "ax.set_ylabel('weighted MAE (km/h)')\n",
    "ax.set_ylim(4.1, 6.4)\n",
    "ax.set_xlim(20, 105)\n",
    "plt.legend(fontsize=10)\n",
    "plt.grid()\n",
    "plt.tight_layout()\n",
    "plt.savefig('./imgs/distill.pdf', dpi=600)\n",
    "plt.show()"
   ]
  },
  {
   "cell_type": "code",
   "execution_count": null,
   "metadata": {},
   "outputs": [],
   "source": [
    "dt = np.load('./results/order_2020.npz', allow_pickle=True)\n",
    "len(dt['remove']) "
   ]
  },
  {
   "cell_type": "code",
   "execution_count": null,
   "metadata": {},
   "outputs": [],
   "source": [
    "testset = AMSdataset(['2018', '2019'], para, 'train')"
   ]
  },
  {
   "cell_type": "code",
   "execution_count": null,
   "metadata": {},
   "outputs": [],
   "source": [
    "speed = testset.X[order[-14000],...,0]\n",
    "plt.imshow(speed)\n",
    "plt.show()"
   ]
  },
  {
   "cell_type": "code",
   "execution_count": null,
   "metadata": {},
   "outputs": [],
   "source": [
    "vmin_out = np.amin(testset.X[:,-15:,...,0], (1,2))\n",
    "vmin_in = np.amin(testset.X[:,:20,...,0], (1,2))"
   ]
  },
  {
   "cell_type": "code",
   "execution_count": null,
   "metadata": {},
   "outputs": [],
   "source": [
    "len(np.where((vmin_in<0.45) & (vmin_out<0.45))[0])"
   ]
  },
  {
   "cell_type": "code",
   "execution_count": null,
   "metadata": {},
   "outputs": [],
   "source": [
    "1-16099/Nb"
   ]
  },
  {
   "cell_type": "code",
   "execution_count": null,
   "metadata": {},
   "outputs": [],
   "source": [
    "plt.imshow(prediction[order[-18000],...,0],vmin=0, vmax=1)\n",
    "plt.show()"
   ]
  },
  {
   "cell_type": "code",
   "execution_count": null,
   "metadata": {},
   "outputs": [],
   "source": [
    "130*0.4"
   ]
  },
  {
   "cell_type": "code",
   "execution_count": null,
   "metadata": {},
   "outputs": [],
   "source": []
  }
 ],
 "metadata": {
  "kernelspec": {
   "display_name": "torch39",
   "language": "python",
   "name": "python3"
  },
  "language_info": {
   "codemirror_mode": {
    "name": "ipython",
    "version": 3
   },
   "file_extension": ".py",
   "mimetype": "text/x-python",
   "name": "python",
   "nbconvert_exporter": "python",
   "pygments_lexer": "ipython3",
   "version": "3.9.12"
  },
  "orig_nbformat": 4
 },
 "nbformat": 4,
 "nbformat_minor": 2
}
