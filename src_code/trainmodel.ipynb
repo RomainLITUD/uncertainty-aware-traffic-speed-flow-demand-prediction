{
 "cells": [
  {
   "cell_type": "code",
   "execution_count": null,
   "metadata": {},
   "outputs": [],
   "source": [
    "from custom_model.models import DGCN, SoftLoss, DERLoss, MSE_scale\n",
    "import numpy as np\n",
    "import matplotlib.pyplot as plt\n",
    "%matplotlib inline \n",
    "\n",
    "import torch\n",
    "from torch.optim.lr_scheduler import StepLR\n",
    "\n",
    "from custom_model.utils import *\n",
    "from custom_model.training import *\n",
    "from custom_model.custom_dataset import *\n",
    "\n",
    "from absl import logging\n",
    "logging._warn_preinit_stderr = 0\n",
    "logging.warning('Worrying Stuff')\n",
    "\n",
    "device = 'cuda' if torch.cuda.is_available() else 'cpu'\n",
    "print(f'Using {device} device')"
   ]
  },
  {
   "cell_type": "code",
   "execution_count": null,
   "metadata": {},
   "outputs": [],
   "source": [
    "para = {}\n",
    "para['time_invertal'] = 5\n",
    "para['horizon'] = 15\n",
    "para['observation'] = 20\n",
    "para['nb_node'] = 193\n",
    "para['dim_feature'] = 128\n",
    "A = adjacency_matrix(3)\n",
    "B = adjacency_matrixq(3, 8)\n",
    "\n",
    "#years = ['2018']\n",
    "years = ['2018', '2019']\n",
    "years_test = ['2019']"
   ]
  },
  {
   "cell_type": "code",
   "execution_count": null,
   "metadata": {},
   "outputs": [],
   "source": [
    "trainset = AMSdataset(years, para, 'train')\n",
    "validationset = AMSdataset(years, para, 'validation')\n",
    "validation_loader = DataLoader(validationset, batch_size=16, shuffle=False)\n",
    "BATCH_SIZE = 16\n",
    "EPOCH_NUMBER = 40\n",
    "#loss = DERLoss(0.1).to(device)\n",
    "loss = MSE_scale().to(device)"
   ]
  },
  {
   "cell_type": "code",
   "execution_count": null,
   "metadata": {},
   "outputs": [],
   "source": [
    "model = DGCN(para, A, B, uncertainty=False).to(device)\n",
    "optimizer = torch.optim.Adam(model.parameters(), lr=0.001)\n",
    "scheduler = StepLR(optimizer, step_size=1, gamma=0.98)\n",
    "train_model(EPOCH_NUMBER, BATCH_SIZE, trainset, model, optimizer, validation_loader, loss,\n",
    "                  scheduler, para['horizon'], beta=-0.07)"
   ]
  },
  {
   "cell_type": "code",
   "execution_count": null,
   "metadata": {},
   "outputs": [],
   "source": [
    "torch.save(model.state_dict(), './pretrained/model_mse.pt')"
   ]
  },
  {
   "cell_type": "code",
   "execution_count": null,
   "metadata": {},
   "outputs": [],
   "source": [
    "model = DGCN(para, A, B, return_interpret=False, uncertainty=False).to(device)\n",
    "#model.load_state_dict(torch.load('./pretrained/predictor_uq.pt'))\n",
    "model.load_state_dict(torch.load('./pretrained/model_mse.pt'))"
   ]
  },
  {
   "cell_type": "code",
   "execution_count": null,
   "metadata": {},
   "outputs": [],
   "source": [
    "para['time_invertal'] = 5\n",
    "testset = AMSdataset(['2022'], para, 'test')\n",
    "#testset = AMSdataset(years, para, 'train')\n",
    "prediction = test_run_point(testset, model)"
   ]
  },
  {
   "cell_type": "code",
   "execution_count": null,
   "metadata": {},
   "outputs": [],
   "source": [
    "y = model(torch.Tensor(testset.X[[99]]).float().to(device), 0)"
   ]
  },
  {
   "cell_type": "code",
   "execution_count": null,
   "metadata": {},
   "outputs": [],
   "source": [
    "plt.imshow(y[0,...,0])"
   ]
  },
  {
   "cell_type": "code",
   "execution_count": null,
   "metadata": {},
   "outputs": [],
   "source": [
    "alea, epis = test_run_uq(testset, model)"
   ]
  },
  {
   "cell_type": "code",
   "execution_count": null,
   "metadata": {},
   "outputs": [],
   "source": [
    "epis = test_run_rarity(testset, model)"
   ]
  },
  {
   "cell_type": "code",
   "execution_count": null,
   "metadata": {},
   "outputs": [],
   "source": [
    "weights = np.where(testset.X[:,-15:,:,0]>0.45, 1., 1.)\n",
    "MAE = np.mean(np.abs(prediction[...,0]-testset.X[:,-15:,:,0])*weights)*130\n",
    "MAPE = np.mean(weights*np.abs(prediction[...,0]-testset.X[:,-15:,:,0])/testset.X[:,-15:,:,0]*100)\n",
    "RMSE = np.mean(weights*(prediction[...,0]-testset.X[:,-15:,:,0])**2)**0.5*130"
   ]
  },
  {
   "cell_type": "code",
   "execution_count": null,
   "metadata": {},
   "outputs": [],
   "source": [
    "print(MAE, MAPE, RMSE)"
   ]
  },
  {
   "cell_type": "code",
   "execution_count": null,
   "metadata": {},
   "outputs": [],
   "source": [
    "MAE = np.mean(np.abs(prediction[...,1]-testset.X[:,-15:,:,1])*weights)*3000\n",
    "MAPE = np.mean(weights*np.abs(prediction[...,1]-testset.X[:,-15:,:,1])/testset.X[:,-15:,:,1]*100)\n",
    "RMSE = np.mean(weights*(prediction[...,1]-testset.X[:,-15:,:,1])**2)**0.5*3000"
   ]
  },
  {
   "cell_type": "code",
   "execution_count": null,
   "metadata": {},
   "outputs": [],
   "source": [
    "print(MAE, MAPE, RMSE)"
   ]
  },
  {
   "cell_type": "code",
   "execution_count": null,
   "metadata": {},
   "outputs": [],
   "source": [
    "np.mean(testset.X[np.argsort(epis)[-50],...,0])"
   ]
  },
  {
   "cell_type": "code",
   "execution_count": null,
   "metadata": {},
   "outputs": [],
   "source": [
    "np.mean(epis)**0.5*130"
   ]
  },
  {
   "cell_type": "code",
   "execution_count": null,
   "metadata": {},
   "outputs": [],
   "source": [
    "plt.scatter(np.amin(testset.X[np.argsort(epis)][:,-15:,:,0], (1,2)), np.sort(epis), s=0.2)\n",
    "plt.show()"
   ]
  },
  {
   "cell_type": "code",
   "execution_count": null,
   "metadata": {},
   "outputs": [],
   "source": [
    "np.savez_compressed('./results/order_2021', perserve=np.where(epis**0.5*130>1.78)[0], remove=np.where(epis**0.5*130<=1.78)[0])"
   ]
  },
  {
   "cell_type": "code",
   "execution_count": null,
   "metadata": {},
   "outputs": [],
   "source": [
    "np.savez_compressed('./results/order_train', order=np.argsort(epis))"
   ]
  },
  {
   "cell_type": "code",
   "execution_count": null,
   "metadata": {},
   "outputs": [],
   "source": [
    "np.sort(epis)[int(len(epis)*0.7)]**0.5*130"
   ]
  },
  {
   "cell_type": "code",
   "execution_count": null,
   "metadata": {},
   "outputs": [],
   "source": [
    "np.sort(epis)[-16099]**0.5*130"
   ]
  },
  {
   "cell_type": "code",
   "execution_count": null,
   "metadata": {},
   "outputs": [],
   "source": [
    "fig, ax = plt.subplots(figsize=(5,3))\n",
    "ax.hist(epis**0.5*130, bins=np.linspace(0, 12, 60), density=True, alpha=0.8, align='left')\n",
    "plt.xlim(-0.1,10)\n",
    "plt.ylim(0,1.15)\n",
    "plt.vlines(2.59, 0, 1.15, colors='red', ls='-.', label='70%, 2.59')\n",
    "plt.vlines(1.52, 0, 1.15, colors='black', ls='--', label='free-flowing, 1.52')\n",
    "plt.xlabel('Knowledge uncertainty (km/h)')\n",
    "plt.ylabel('probability')\n",
    "plt.legend()\n",
    "plt.tight_layout()\n",
    "plt.savefig('./imgs/dist_knowledge_train.pdf', dpi=600)\n",
    "plt.show()"
   ]
  },
  {
   "cell_type": "code",
   "execution_count": null,
   "metadata": {},
   "outputs": [],
   "source": [
    "fig, ax = plt.subplots(figsize=(5,3))\n",
    "ax.plot(np.arange(4,44,4), np.mean(alea[:,:10], (0,2))**0.5*130, marker='x', label='Aleatoric')\n",
    "ax.plot(np.arange(4,44,4), np.mean(epis[:,:10], (0,2))**0.5*130*2, marker='+', label='Epistemic')\n",
    "ax.plot(np.arange(4,44,4), np.mean(epis[:,:10]+alea[:,:10]*4, (0,2))**0.5*130, marker='*', label='Total')\n",
    "ax.set_xlabel('prediction horizon (min)')\n",
    "ax.set_ylabel(r'$\\sigma$ (km/h)')\n",
    "ax.set_xticks(np.arange(4,44,4))\n",
    "ax.set_xlim(0,44)\n",
    "ax.set_ylim(0,20)\n",
    "ax.set_title('Test set 2019')\n",
    "plt.legend()\n",
    "plt.grid()\n",
    "fig.tight_layout()\n",
    "fig.savefig('./imgs/overfit19.pdf', dpi=600)\n",
    "plt.show()"
   ]
  },
  {
   "cell_type": "code",
   "execution_count": null,
   "metadata": {},
   "outputs": [],
   "source": [
    "np.mean((prediction[...,1]-testset.X[:,-15:,:,1])**2)**0.5*3000"
   ]
  },
  {
   "cell_type": "code",
   "execution_count": null,
   "metadata": {},
   "outputs": [],
   "source": [
    "weights = np.where(testset.X[:,-15:,:,1]>0.45, 1., 1.)\n",
    "np.mean(weights*np.abs(prediction[...,1]-testset.X[:,-15:,:,1]))*3000"
   ]
  },
  {
   "cell_type": "code",
   "execution_count": null,
   "metadata": {},
   "outputs": [],
   "source": [
    "np.mean(weights*np.abs(prediction[...,1]-testset.X[:,-15:,:,1])/testset.X[:,-15:,:,1]*100)"
   ]
  },
  {
   "cell_type": "code",
   "execution_count": null,
   "metadata": {},
   "outputs": [],
   "source": [
    "ji = -8\n",
    "print(inds[ji]//52)\n",
    "plt.imshow(testset.X[inds[ji],...,0], vmin=0, vmax=1, aspect='auto')\n",
    "plt.show()"
   ]
  },
  {
   "cell_type": "code",
   "execution_count": null,
   "metadata": {},
   "outputs": [],
   "source": [
    "plt.imshow(np.concatenate((testset.X[inds[ji],:20,...,0], prediction[inds[ji],...,0]), 0), vmin=0, vmax=1, aspect='auto')\n",
    "plt.show()"
   ]
  },
  {
   "cell_type": "code",
   "execution_count": null,
   "metadata": {},
   "outputs": [],
   "source": [
    "plt.imshow(alea[inds[ji]], aspect='auto')\n",
    "plt.show()"
   ]
  },
  {
   "cell_type": "code",
   "execution_count": null,
   "metadata": {},
   "outputs": [],
   "source": [
    "#plt.scatter(np.arange(2, 32, 2), np.mean(alea, (0,2))**0.5*130-1)\n",
    "#plt.scatter(np.arange(2, 32, 2), np.mean(epis, (0,2))**0.5*130-1)\n",
    "plt.scatter(np.arange(2, 32, 2), np.mean(alea/epis, (0,2)))\n",
    "#plt.scatter(np.arange(2, 32, 2), s)\n",
    "plt.show()"
   ]
  },
  {
   "cell_type": "code",
   "execution_count": null,
   "metadata": {},
   "outputs": [],
   "source": [
    "plt.scatter(prediction[:,1,:,0].flatten(), epis[:,1,:].flatten()**0.5)\n",
    "plt.show()"
   ]
  },
  {
   "cell_type": "code",
   "execution_count": null,
   "metadata": {},
   "outputs": [],
   "source": [
    "dt = np.load('./results/SP.npz', allow_pickle=True)"
   ]
  },
  {
   "cell_type": "code",
   "execution_count": null,
   "metadata": {},
   "outputs": [],
   "source": [
    "plt.scatter(np.mean(prediction[...,0], (1,2)), np.mean(epis, (1,2))**0.5)\n",
    "plt.show()"
   ]
  },
  {
   "cell_type": "code",
   "execution_count": null,
   "metadata": {},
   "outputs": [],
   "source": [
    "np.mean(alea)**0.5*130, np.mean(epis)**0.5*130, np.mean(epis+alea)**0.5*130"
   ]
  },
  {
   "cell_type": "code",
   "execution_count": null,
   "metadata": {},
   "outputs": [],
   "source": []
  }
 ],
 "metadata": {
  "kernelspec": {
   "display_name": "torch39",
   "language": "python",
   "name": "python3"
  },
  "language_info": {
   "codemirror_mode": {
    "name": "ipython",
    "version": 3
   },
   "file_extension": ".py",
   "mimetype": "text/x-python",
   "name": "python",
   "nbconvert_exporter": "python",
   "pygments_lexer": "ipython3",
   "version": "3.9.12"
  },
  "orig_nbformat": 4
 },
 "nbformat": 4,
 "nbformat_minor": 2
}
